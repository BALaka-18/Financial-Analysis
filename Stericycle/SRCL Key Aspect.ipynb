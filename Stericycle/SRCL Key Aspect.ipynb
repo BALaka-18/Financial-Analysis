{
 "cells": [
  {
   "cell_type": "code",
   "execution_count": 1,
   "metadata": {},
   "outputs": [
    {
     "name": "stdout",
     "output_type": "stream",
     "text": [
      "[nltk_data] Downloading package stopwords to\n",
      "[nltk_data]     C:\\Users\\User\\AppData\\Roaming\\nltk_data...\n",
      "[nltk_data]   Package stopwords is already up-to-date!\n",
      "[nltk_data] Downloading package wordnet to\n",
      "[nltk_data]     C:\\Users\\User\\AppData\\Roaming\\nltk_data...\n",
      "[nltk_data]   Package wordnet is already up-to-date!\n",
      "[nltk_data] Downloading package punkt to\n",
      "[nltk_data]     C:\\Users\\User\\AppData\\Roaming\\nltk_data...\n",
      "[nltk_data]   Package punkt is already up-to-date!\n"
     ]
    },
    {
     "name": "stderr",
     "output_type": "stream",
     "text": [
      "C:\\Users\\User\\Anaconda3\\lib\\site-packages\\nltk\\twitter\\__init__.py:20: UserWarning: The twython library has not been installed. Some functionality from the twitter package will not be available.\n",
      "  warnings.warn(\"The twython library has not been installed. \"\n"
     ]
    }
   ],
   "source": [
    "import requests\n",
    "import nltk\n",
    "nltk.download('stopwords')\n",
    "nltk.download('wordnet')\n",
    "nltk.download('punkt')\n",
    "from nltk.stem import WordNetLemmatizer\n",
    "from nltk.sentiment.vader import SentimentIntensityAnalyzer \n",
    "from bs4 import BeautifulSoup\n",
    "import numpy as np \n",
    "import pandas as pd \n",
    "import seaborn as sns\n",
    "import matplotlib.pyplot as plt\n",
    "%matplotlib inline\n",
    "import random\n",
    "from wordcloud import WordCloud\n",
    "from html.parser import HTMLParser\n",
    "\n",
    "import bs4 as bs\n",
    "import urllib.request\n",
    "import re"
   ]
  },
  {
   "cell_type": "code",
   "execution_count": 2,
   "metadata": {},
   "outputs": [],
   "source": [
    "r=requests.get('https://investorplace.com/stock-quotes/srcl-stock-quote/')\n",
    "    "
   ]
  },
  {
   "cell_type": "code",
   "execution_count": 3,
   "metadata": {},
   "outputs": [],
   "source": [
    "r.encoding = 'utf-8'"
   ]
  },
  {
   "cell_type": "code",
   "execution_count": 4,
   "metadata": {},
   "outputs": [],
   "source": [
    "html = r.text"
   ]
  },
  {
   "cell_type": "code",
   "execution_count": 5,
   "metadata": {},
   "outputs": [
    {
     "name": "stdout",
     "output_type": "stream",
     "text": [
      "<!DOCTYPE html>\n",
      "<html lang=\"en-US\">\n",
      "\n",
      "<head>\n",
      "\t<title>\n",
      "\t\tSRCL Stock Quote of Stericycle\t</title>\n",
      "\n",
      "\t<link rel=\"profile\" href=\"http://gmpg.org/xfn/11\" />\n",
      "\t\n",
      "\t<meta http-equiv=\"Content-Type\" content=\"text/html; charset=UTF-8\">\n",
      "\t<meta http-equiv=\"X-UA-Compatible\" content=\"IE=edge\"><script type=\"text/javascript\">(window.NREUM||(NREUM={})).loader_config={licenseKey:\"37729af97b\",applicationID:\"117864961\"};window.NREUM||(NREUM={}),__nr_require=function(e,n,t){function r(t){if(!n[t]){var i=n[t]={exports:{}}\n"
     ]
    }
   ],
   "source": [
    "# Printing the first 500 characters in html\n",
    "print(html[:500])"
   ]
  },
  {
   "cell_type": "code",
   "execution_count": 6,
   "metadata": {},
   "outputs": [
    {
     "name": "stderr",
     "output_type": "stream",
     "text": [
      "C:\\Users\\User\\Anaconda3\\lib\\site-packages\\bs4\\__init__.py:181: UserWarning: No parser was explicitly specified, so I'm using the best available HTML parser for this system (\"lxml\"). This usually isn't a problem, but if you run this code on another system, or in a different virtual environment, it may use a different parser and behave differently.\n",
      "\n",
      "The code that caused this warning is on line 193 of the file C:\\Users\\User\\Anaconda3\\lib\\runpy.py. To get rid of this warning, change code that looks like this:\n",
      "\n",
      " BeautifulSoup(YOUR_MARKUP})\n",
      "\n",
      "to this:\n",
      "\n",
      " BeautifulSoup(YOUR_MARKUP, \"lxml\")\n",
      "\n",
      "  markup_type=markup_type))\n"
     ]
    }
   ],
   "source": [
    "# Creating a BeautifulSoup object from the HTML\n",
    "soup = BeautifulSoup(html)"
   ]
  },
  {
   "cell_type": "code",
   "execution_count": 7,
   "metadata": {},
   "outputs": [],
   "source": [
    "text = soup.get_text()"
   ]
  },
  {
   "cell_type": "code",
   "execution_count": 8,
   "metadata": {},
   "outputs": [
    {
     "data": {
      "text/plain": [
       "26353"
      ]
     },
     "execution_count": 8,
     "metadata": {},
     "output_type": "execute_result"
    }
   ],
   "source": [
    "#total length\n",
    "len(text)"
   ]
  },
  {
   "cell_type": "code",
   "execution_count": 9,
   "metadata": {},
   "outputs": [],
   "source": [
    "text=text[19400:25650]"
   ]
  },
  {
   "cell_type": "code",
   "execution_count": 10,
   "metadata": {},
   "outputs": [],
   "source": [
    "clean_text = re.sub(r'\\[[0-9]*\\]', ' ', text)\n",
    "clean_text = re.sub(r'\\s+', ' ', clean_text)"
   ]
  },
  {
   "cell_type": "code",
   "execution_count": 11,
   "metadata": {},
   "outputs": [
    {
     "data": {
      "text/plain": [
       "\"blog post is a great place to start with these stocks to buy Why Whirlpool Corporation (WHR), Stericycle Inc (SRCL) and VF Corp. (VFC) Are 3 of Today’s Worst Stocks By James Brumley, InvestorPlace Feature Writer Oct 23, 2015 Too bad for Whirlpool (WHR), Stericycle (SRCL) and VF Corp. (VFC) the market doesn't do do-overs. Here's what investors need to know. 7 Healthcare Stocks Immune to Market Decl\""
      ]
     },
     "execution_count": 11,
     "metadata": {},
     "output_type": "execute_result"
    }
   ],
   "source": [
    "clean_text[500:900]"
   ]
  },
  {
   "cell_type": "markdown",
   "metadata": {},
   "source": [
    "# Text Summarization\n"
   ]
  },
  {
   "cell_type": "code",
   "execution_count": 12,
   "metadata": {},
   "outputs": [],
   "source": [
    "\n",
    "sentence_list = nltk.sent_tokenize(clean_text)"
   ]
  },
  {
   "cell_type": "code",
   "execution_count": 13,
   "metadata": {},
   "outputs": [],
   "source": [
    "stopwords = nltk.corpus.stopwords.words('english')\n",
    "\n",
    "word_frequencies = {}\n",
    "for word in nltk.word_tokenize(clean_text):\n",
    "    if word not in stopwords:\n",
    "        if word not in word_frequencies.keys():\n",
    "            word_frequencies[word] = 1\n",
    "        else:\n",
    "            word_frequencies[word] += 1"
   ]
  },
  {
   "cell_type": "code",
   "execution_count": 14,
   "metadata": {},
   "outputs": [],
   "source": [
    "maximum_frequncy = max(word_frequencies.values())\n",
    "\n",
    "for word in word_frequencies.keys():\n",
    "    word_frequencies[word] = (word_frequencies[word]/maximum_frequncy)"
   ]
  },
  {
   "cell_type": "code",
   "execution_count": 15,
   "metadata": {},
   "outputs": [],
   "source": [
    "sentence_scores = {}\n",
    "for sent in sentence_list:\n",
    "    for word in nltk.word_tokenize(sent.lower()):\n",
    "        if word in word_frequencies.keys():\n",
    "            if len(sent.split(' ')) < 30:\n",
    "                if sent not in sentence_scores.keys():\n",
    "                    sentence_scores[sent] = word_frequencies[word]\n",
    "                else:\n",
    "                    sentence_scores[sent] += word_frequencies[word]"
   ]
  },
  {
   "cell_type": "code",
   "execution_count": 16,
   "metadata": {},
   "outputs": [
    {
     "data": {
      "text/plain": [
       "{\"Here's what investors need to know.\": 0.42424242424242425,\n",
       " 'The company’s shares closed last Wednesday at $14.63, close to its 52-week high of $16.11.': 1.5909090909090908,\n",
       " 'But if you pick the right individual stocks, you could make more than that.': 1.4393939393939392,\n",
       " '5 Stocks Poised for Post-Earnings Pop From Talk Markets Jul 14, 2020 With earnings season kicking in as we speak, that’s the thing topmost on investors’ minds.': 2.8636363636363633,\n",
       " '5 Stocks Poised for Post-Earnings Pop From Zacks Investment Research Jul 13, 2020 Earnings season is opening up new opportunities for investors.': 1.6969696969696966,\n",
       " 'Navellier Ratings Powered by Portfolio Grader Total Grade B Buy googletag.cmd.push(function() { if ( !': 4.015151515151516,\n",
       " 'Nasdaq quotes delayed at least 15 minutes, all others at least 20 minutes.': 1.53030303030303,\n",
       " 'Copyright © 2020 InvestorPlace Media, LLC.': 1.409090909090909,\n",
       " 'All rights reserved.': 0.3484848484848485,\n",
       " '1125 N. Charles St, Baltimore, MD 21201.': 2.3181818181818183,\n",
       " 'Subscriber Sign in Username Password Sign in Having trouble logging in?': 0.07575757575757576,\n",
       " 'Not Yet a Premium Subscriber?': 0.045454545454545456,\n",
       " '[CDATA[ */ var ipm = {\"settings\":{\"siteUrl\":\"https:\\\\/\\\\/investorplace.com\",\"ajaxurl\":\"https:\\\\/\\\\/investorplace.com\\\\/wp-admin\\\\/admin-ajax.php\",\"home\":true,\"isSingle': 9.924242424242427}"
      ]
     },
     "execution_count": 16,
     "metadata": {},
     "output_type": "execute_result"
    }
   ],
   "source": [
    "sentence_scores"
   ]
  },
  {
   "cell_type": "markdown",
   "metadata": {},
   "source": [
    "# 10 Key Ideas"
   ]
  },
  {
   "cell_type": "code",
   "execution_count": 17,
   "metadata": {},
   "outputs": [
    {
     "name": "stdout",
     "output_type": "stream",
     "text": [
      "[CDATA[ */ var ipm = {\"settings\":{\"siteUrl\":\"https:\\/\\/investorplace.com\",\"ajaxurl\":\"https:\\/\\/investorplace.com\\/wp-admin\\/admin-ajax.php\",\"home\":true,\"isSingle Navellier Ratings Powered by Portfolio Grader Total Grade B Buy googletag.cmd.push(function() { if ( ! 5 Stocks Poised for Post-Earnings Pop From Talk Markets Jul 14, 2020 With earnings season kicking in as we speak, that’s the thing topmost on investors’ minds. 1125 N. Charles St, Baltimore, MD 21201. 5 Stocks Poised for Post-Earnings Pop From Zacks Investment Research Jul 13, 2020 Earnings season is opening up new opportunities for investors. The company’s shares closed last Wednesday at $14.63, close to its 52-week high of $16.11. Nasdaq quotes delayed at least 15 minutes, all others at least 20 minutes. But if you pick the right individual stocks, you could make more than that. Copyright © 2020 InvestorPlace Media, LLC. Here's what investors need to know.\n"
     ]
    }
   ],
   "source": [
    "import heapq\n",
    "summary_sentences = heapq.nlargest(10, sentence_scores, key=sentence_scores.get)\n",
    "\n",
    "summary = ' '.join(summary_sentences)\n",
    "print(summary)"
   ]
  },
  {
   "cell_type": "markdown",
   "metadata": {},
   "source": [
    "# 15 Key Ideas"
   ]
  },
  {
   "cell_type": "code",
   "execution_count": 18,
   "metadata": {},
   "outputs": [
    {
     "name": "stdout",
     "output_type": "stream",
     "text": [
      "[CDATA[ */ var ipm = {\"settings\":{\"siteUrl\":\"https:\\/\\/investorplace.com\",\"ajaxurl\":\"https:\\/\\/investorplace.com\\/wp-admin\\/admin-ajax.php\",\"home\":true,\"isSingle Navellier Ratings Powered by Portfolio Grader Total Grade B Buy googletag.cmd.push(function() { if ( ! 5 Stocks Poised for Post-Earnings Pop From Talk Markets Jul 14, 2020 With earnings season kicking in as we speak, that’s the thing topmost on investors’ minds. 1125 N. Charles St, Baltimore, MD 21201. 5 Stocks Poised for Post-Earnings Pop From Zacks Investment Research Jul 13, 2020 Earnings season is opening up new opportunities for investors. The company’s shares closed last Wednesday at $14.63, close to its 52-week high of $16.11. Nasdaq quotes delayed at least 15 minutes, all others at least 20 minutes. But if you pick the right individual stocks, you could make more than that. Copyright © 2020 InvestorPlace Media, LLC. Here's what investors need to know. All rights reserved. Subscriber Sign in Username Password Sign in Having trouble logging in? Not Yet a Premium Subscriber?\n"
     ]
    }
   ],
   "source": [
    "import heapq\n",
    "summary_sentences_2 = heapq.nlargest(15, sentence_scores, key=sentence_scores.get)\n",
    "\n",
    "summary_2 = ' '.join(summary_sentences_2)\n",
    "print(summary_2)"
   ]
  },
  {
   "cell_type": "code",
   "execution_count": null,
   "metadata": {},
   "outputs": [],
   "source": []
  }
 ],
 "metadata": {
  "kernelspec": {
   "display_name": "Python 3",
   "language": "python",
   "name": "python3"
  },
  "language_info": {
   "codemirror_mode": {
    "name": "ipython",
    "version": 3
   },
   "file_extension": ".py",
   "mimetype": "text/x-python",
   "name": "python",
   "nbconvert_exporter": "python",
   "pygments_lexer": "ipython3",
   "version": "3.6.5"
  }
 },
 "nbformat": 4,
 "nbformat_minor": 2
}
