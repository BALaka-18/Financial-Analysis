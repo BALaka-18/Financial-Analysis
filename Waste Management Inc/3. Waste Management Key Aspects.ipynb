{
 "cells": [
  {
   "cell_type": "code",
   "execution_count": 1,
   "metadata": {},
   "outputs": [],
   "source": [
    "#Importing the essential libraries\n",
    "#Beautiful Soup is a Python library for pulling data out of HTML and XML files\n",
    "#The Natural Language Toolkit\n",
    "\n",
    "import requests\n",
    "import nltk\n",
    "from nltk.sentiment.vader import SentimentIntensityAnalyzer \n",
    "from bs4 import BeautifulSoup\n",
    "import numpy as np \n",
    "import pandas as pd \n",
    "import seaborn as sns\n",
    "import matplotlib.pyplot as plt\n",
    "%matplotlib inline\n",
    "import random\n",
    "from wordcloud import WordCloud\n",
    "from html.parser import HTMLParser\n",
    "\n",
    "import bs4 as bs\n",
    "import urllib.request\n",
    "import re"
   ]
  },
  {
   "cell_type": "code",
   "execution_count": 2,
   "metadata": {},
   "outputs": [],
   "source": [
    "\n",
    "r=requests.get('https://investorplace.com/2020/06/dont-throw-away-your-waste-management-wm-stock/')"
   ]
  },
  {
   "cell_type": "code",
   "execution_count": 3,
   "metadata": {},
   "outputs": [],
   "source": [
    "#Setting the correct text encoding of the HTML page\n",
    "r.encoding = 'utf-8'"
   ]
  },
  {
   "cell_type": "code",
   "execution_count": 4,
   "metadata": {},
   "outputs": [],
   "source": [
    "#Extracting the HTML from the request object\n",
    "html = r.text"
   ]
  },
  {
   "cell_type": "code",
   "execution_count": 5,
   "metadata": {},
   "outputs": [
    {
     "name": "stdout",
     "output_type": "stream",
     "text": [
      "<!DOCTYPE html>\n",
      "<html lang=\"en-US\">\n",
      "\n",
      "<head>\n",
      "\t<title>\n",
      "\t\tWM Stock: Don&#039;t Throw Away Your Waste Management Shares Yet | InvestorPlace\t</title>\n",
      "\n",
      "\t<link rel=\"profile\" href=\"http://gmpg.org/xfn/11\" />\n",
      "\t\n",
      "\t<meta http-equiv=\"Content-Type\" content=\"text/html; charset=UTF-8\">\n",
      "\t<meta http-equiv=\"X-UA-Compatible\" content=\"IE=edge\"><script type=\"text/javascript\">(window.NREUM||(NREUM={})).loader_config={licenseKey:\"37729af97b\",applicationID:\"117864961\"};window.NREUM||(NREUM={}),__nr_require=function(e,n,\n"
     ]
    }
   ],
   "source": [
    "# Printing the first 500 characters in html\n",
    "print(html[:500])"
   ]
  },
  {
   "cell_type": "code",
   "execution_count": 6,
   "metadata": {},
   "outputs": [],
   "source": [
    "# Creating a BeautifulSoup object from the HTML\n",
    "soup = BeautifulSoup(html)"
   ]
  },
  {
   "cell_type": "code",
   "execution_count": 7,
   "metadata": {},
   "outputs": [],
   "source": [
    "# Getting the text out of the soup\n",
    "text = soup.get_text()"
   ]
  },
  {
   "cell_type": "code",
   "execution_count": 8,
   "metadata": {},
   "outputs": [
    {
     "data": {
      "text/plain": [
       "31327"
      ]
     },
     "execution_count": 8,
     "metadata": {},
     "output_type": "execute_result"
    }
   ],
   "source": [
    "#total length\n",
    "len(text)"
   ]
  },
  {
   "cell_type": "code",
   "execution_count": 22,
   "metadata": {},
   "outputs": [],
   "source": [
    "text=text[19400:25650]"
   ]
  },
  {
   "cell_type": "code",
   "execution_count": 23,
   "metadata": {},
   "outputs": [],
   "source": [
    "# Removing Square Brackets and Extra Spaces\n",
    "clean_text = re.sub(r'\\[[0-9]*\\]', ' ', text)\n",
    "clean_text = re.sub(r'\\s+', ' ', clean_text)"
   ]
  },
  {
   "cell_type": "code",
   "execution_count": 26,
   "metadata": {},
   "outputs": [
    {
     "data": {
      "text/plain": [
       "'nner. Source: rblfmr / Shutterstock.com Over the past 20 years, WM is up more than 500%. Investors would have made nearly 1,000% over the same time span if they reinvested their dividends into more Waste Management shares. The company’s appeal has grown with the novel coronavirus. Investors are looking for safe haven plays that are largely insulated from economic shocks. And while trash disposal i'"
      ]
     },
     "execution_count": 26,
     "metadata": {},
     "output_type": "execute_result"
    }
   ],
   "source": [
    "clean_text[500:900]"
   ]
  },
  {
   "cell_type": "markdown",
   "metadata": {},
   "source": [
    "# Text Summarization"
   ]
  },
  {
   "cell_type": "code",
   "execution_count": 27,
   "metadata": {},
   "outputs": [],
   "source": [
    "#We need to tokenize the article into sentences\n",
    "#Sentence tokenization\n",
    "\n",
    "sentence_list = nltk.sent_tokenize(clean_text)"
   ]
  },
  {
   "cell_type": "code",
   "execution_count": 29,
   "metadata": {},
   "outputs": [],
   "source": [
    "#Weighted Frequency of Occurrence\n",
    "\n",
    "stopwords = nltk.corpus.stopwords.words('english')\n",
    "\n",
    "word_frequencies = {}\n",
    "for word in nltk.word_tokenize(clean_text):\n",
    "    if word not in stopwords:\n",
    "        if word not in word_frequencies.keys():\n",
    "            word_frequencies[word] = 1\n",
    "        else:\n",
    "            word_frequencies[word] += 1"
   ]
  },
  {
   "cell_type": "code",
   "execution_count": 30,
   "metadata": {},
   "outputs": [],
   "source": [
    "maximum_frequncy = max(word_frequencies.values())\n",
    "\n",
    "for word in word_frequencies.keys():\n",
    "    word_frequencies[word] = (word_frequencies[word]/maximum_frequncy)"
   ]
  },
  {
   "cell_type": "code",
   "execution_count": 31,
   "metadata": {},
   "outputs": [],
   "source": [
    "sentence_scores = {}\n",
    "for sent in sentence_list:\n",
    "    for word in nltk.word_tokenize(sent.lower()):\n",
    "        if word in word_frequencies.keys():\n",
    "            if len(sent.split(' ')) < 30:\n",
    "                if sent not in sentence_scores.keys():\n",
    "                    sentence_scores[sent] = word_frequencies[word]\n",
    "                else:\n",
    "                    sentence_scores[sent] += word_frequencies[word]"
   ]
  },
  {
   "cell_type": "code",
   "execution_count": 35,
   "metadata": {},
   "outputs": [
    {
     "data": {
      "text/plain": [
       "{'While it’s not a glamorous sector, it’s produced above-average returns over the decades.': 3.105263157894737,\n",
       " 'In particular, Waste Management (NYSE:WM) stock has been a huge winner.': 2.43859649122807,\n",
       " 'Source: rblfmr / Shutterstock.com Over the past 20 years, WM is up more than 500%.': 2.280701754385965,\n",
       " 'Investors would have made nearly 1,000% over the same time span if they reinvested their dividends into more Waste Management shares.': 1.368421052631579,\n",
       " 'The company’s appeal has grown with the novel coronavirus.': 1.7192982456140353,\n",
       " 'Investors are looking for safe haven plays that are largely insulated from economic shocks.': 1.1929824561403508,\n",
       " 'And while trash disposal isn’t entirely recession-proof, it holds up pretty well.': 2.7017543859649127,\n",
       " 'The company’s stock has bounced back quickly from the March shock as investors realized that the core business remains strong.': 2.0877192982456143,\n",
       " 'As if current events weren’t exciting enough, Waste Management also has a major acquisition in the works.': 2.842105263157895,\n",
       " 'The company is attempting to acquire Advanced Disposal (NYSE:ADSW).': 1.526315789473684,\n",
       " 'Advanced Disposal is a mid-sized operator, as it owns 40 landfill sites currently.': 2.2280701754385963,\n",
       " 'Waste Management, by contrast, has nearly 250.': 3.0,\n",
       " 'Thus, while not a huge deal, it’s enough to add materially to the company.': 3.754385964912281,\n",
       " 'So how does the Waste Management story look at this point with the economic shock and also its planned acquisitions in the works?': 0.43859649122807015,\n",
       " 'Let’s take a closer look.': 1.6140350877192984,\n",
       " 'More Than Meets the Eye At first glance, you might assume Waste Management is a pretty simple business.': 2.2456140350877196,\n",
       " 'They send their trucks around periodically to your house, take the trash to the landfill, and that’s that.': 3.701754385964912,\n",
       " 'However, the business is significantly more complex – and profitable – than that.': 2.210526315789474,\n",
       " 'Waste Management also collects trash from commercial and industrial tenants, who have far higher waste needs than most households.': 2.473684210526316,\n",
       " 'Additionally, Waste Management owns tons of landfills beyond what it needs for its own collection routes.': 2.192982456140351,\n",
       " 'It, in turn, sells this landfill capacity to locally operated third parties that run their own disposal routes.': 3.280701754385965,\n",
       " 'There’s also a recycling division.': 1.7543859649122808,\n",
       " 'A Strong Competitive Advantage Waste Management has earned above-average profits, and thus delivered stellar shareholder returns, because its business is protected from many competitive pressures.': 3.3508771929824563,\n",
       " 'For one thing, it’s very difficult to obtain regulatory approval for new landfills in much of the country.': 2.789473684210526,\n",
       " 'Thus, the existing property owners can charge high prices for capacity.': 2.1403508771929824,\n",
       " 'In addition, there are just a few major national companies in the space.': 2.052631578947368,\n",
       " 'Waste Management’s key rivals are Waste Connections (NYSE:WCN) and Republic Services (NYSE:RSG).': 2.2105263157894735,\n",
       " 'However, once you go past those, competition tends to be local and not have much scale.': 3.12280701754386,\n",
       " 'This ensures a good deal of pricing power for the large players.': 1.1578947368421053,\n",
       " 'It also creates an ample mergers and acquisitions (M&A) pipeline, as Waste Management can buy out small operations to add additional scale.': 2.5964912280701755,\n",
       " 'Coronavirus Impact The virus has had a mixed impact on the company’s overall business.': 2.0350877192982457,\n",
       " 'Volumes in some areas, such as residential, are robust as people spend more time there thanks to quarantine.': 3.12280701754386,\n",
       " 'On the other hand, industrial demand is down, and in some areas, commercial demand in particular is off sharply.': 4.2105263157894735,\n",
       " 'This looks to cause a mid-single digits overall decline in Waste Management’s business for the year.': 1.8421052631578947,\n",
       " 'The recycling business also faces pressure.': 1.4035087719298245,\n",
       " 'A weak overall economy causes demand for recycled materials to fall, hurting the company’s margins there.': 2.912280701754386,\n",
       " 'Compare Brokers WM Stock Verdict Waste Management’s huge and highly integrated business offers some perks but also a few drawbacks.': 2.052631578947369,\n",
       " 'Investors have focused on the negatives thanks to the virus.': 1.2280701754385965,\n",
       " 'Yes, demand will be down from commercial disposal and also as recycling prices stay depressed.': 2.473684210526316,\n",
       " 'It’s not clear that the virus will have any negative long-term impact on Waste Management, though.': 2.68421052631579,\n",
       " 'That is to say that landfills are a flexible and adaptive asset.': 1.1228070175438596,\n",
       " 'The economy is experiencing rapid transformation right now, but there’s little sign it will change humans’ basic desire to consume vast quantities of goods and services.': 3.298245614035088,\n",
       " 'On a valuation basis, Waste Management isn’t particularly cheap, as it sells with a price-earnings ratio of around 26.': 3.7192982456140355,\n",
       " 'On a normalized basis, using 2017 and 2018 earnings as the benchmark, the ratio is closer to 23.': 3.1754385964912286,\n",
       " 'Assuming the economy recovers reasonably quickly, earnings should return to at least those levels.': 2.192982456140351,\n",
       " 'Earnings could go higher once the Advanced Disposal acquisition takes place, assuming the government gives regulatory approval.': 2.3684210526315788,\n",
       " 'With those factors in mind, Waste Management should get to an EPS of $5 within the next couple of years.': 2.1754385964912286,\n",
       " 'That would result in a reasonable earnings multiple of 21.': 1.1578947368421053,\n",
       " 'It’s hard to argue that WM stock is especially cheap, but it’s a fine pick as a defensive play with a decent growth profile.': 3.263157894736843,\n",
       " 'Ian Bezek has written more than 1,000 articles for InvestorPlace.com and Seeking Alpha.': 1.0701754385964912,\n",
       " 'He also worked as a Junior Analyst for Kerrisdale Capital, a $300 million New York City-based hedge fund.': 2.2631578947368425,\n",
       " 'You can reach him on Twitter at @irbezek.': 1.0526315789473684,\n",
       " 'At the time of this writing, he held no positions in any of the aforementioned securities.': 2.0877192982456143,\n",
       " 'Article print': 0.017543859649122806}"
      ]
     },
     "execution_count": 35,
     "metadata": {},
     "output_type": "execute_result"
    }
   ],
   "source": [
    "sentence_scores"
   ]
  },
  {
   "cell_type": "markdown",
   "metadata": {},
   "source": [
    "# 10 Key Ideas"
   ]
  },
  {
   "cell_type": "code",
   "execution_count": 36,
   "metadata": {},
   "outputs": [
    {
     "name": "stdout",
     "output_type": "stream",
     "text": [
      "On the other hand, industrial demand is down, and in some areas, commercial demand in particular is off sharply. Thus, while not a huge deal, it’s enough to add materially to the company. On a valuation basis, Waste Management isn’t particularly cheap, as it sells with a price-earnings ratio of around 26. They send their trucks around periodically to your house, take the trash to the landfill, and that’s that. A Strong Competitive Advantage Waste Management has earned above-average profits, and thus delivered stellar shareholder returns, because its business is protected from many competitive pressures. The economy is experiencing rapid transformation right now, but there’s little sign it will change humans’ basic desire to consume vast quantities of goods and services. It, in turn, sells this landfill capacity to locally operated third parties that run their own disposal routes. It’s hard to argue that WM stock is especially cheap, but it’s a fine pick as a defensive play with a decent growth profile. On a normalized basis, using 2017 and 2018 earnings as the benchmark, the ratio is closer to 23. However, once you go past those, competition tends to be local and not have much scale.\n"
     ]
    }
   ],
   "source": [
    "import heapq\n",
    "summary_sentences = heapq.nlargest(10, sentence_scores, key=sentence_scores.get)\n",
    "\n",
    "summary = ' '.join(summary_sentences)\n",
    "print(summary)"
   ]
  },
  {
   "cell_type": "markdown",
   "metadata": {},
   "source": [
    "# 15 Key Ideas"
   ]
  },
  {
   "cell_type": "code",
   "execution_count": 38,
   "metadata": {},
   "outputs": [
    {
     "name": "stdout",
     "output_type": "stream",
     "text": [
      "On the other hand, industrial demand is down, and in some areas, commercial demand in particular is off sharply. Thus, while not a huge deal, it’s enough to add materially to the company. On a valuation basis, Waste Management isn’t particularly cheap, as it sells with a price-earnings ratio of around 26. They send their trucks around periodically to your house, take the trash to the landfill, and that’s that. A Strong Competitive Advantage Waste Management has earned above-average profits, and thus delivered stellar shareholder returns, because its business is protected from many competitive pressures. The economy is experiencing rapid transformation right now, but there’s little sign it will change humans’ basic desire to consume vast quantities of goods and services. It, in turn, sells this landfill capacity to locally operated third parties that run their own disposal routes. It’s hard to argue that WM stock is especially cheap, but it’s a fine pick as a defensive play with a decent growth profile. On a normalized basis, using 2017 and 2018 earnings as the benchmark, the ratio is closer to 23. However, once you go past those, competition tends to be local and not have much scale. Volumes in some areas, such as residential, are robust as people spend more time there thanks to quarantine. While it’s not a glamorous sector, it’s produced above-average returns over the decades. Waste Management, by contrast, has nearly 250. A weak overall economy causes demand for recycled materials to fall, hurting the company’s margins there. As if current events weren’t exciting enough, Waste Management also has a major acquisition in the works.\n"
     ]
    }
   ],
   "source": [
    "import heapq\n",
    "summary_sentences_2 = heapq.nlargest(15, sentence_scores, key=sentence_scores.get)\n",
    "\n",
    "summary_2 = ' '.join(summary_sentences_2)\n",
    "print(summary_2)"
   ]
  },
  {
   "cell_type": "markdown",
   "metadata": {},
   "source": [
    "# Key Takeaways-\n",
    "\n",
    "1. While the sector might not have large growth in current Covid-19 times, it is surely promising.\n",
    "2. There will be good growth of WM as there is not much competition.\n",
    "3. Decent scope of growth ahead. \n",
    "4. Waste Management sector growth seems viable.\n",
    "5. WM Stock is must hold, not sell."
   ]
  },
  {
   "cell_type": "code",
   "execution_count": null,
   "metadata": {},
   "outputs": [],
   "source": []
  }
 ],
 "metadata": {
  "kernelspec": {
   "display_name": "Python 3",
   "language": "python",
   "name": "python3"
  },
  "language_info": {
   "codemirror_mode": {
    "name": "ipython",
    "version": 3
   },
   "file_extension": ".py",
   "mimetype": "text/x-python",
   "name": "python",
   "nbconvert_exporter": "python",
   "pygments_lexer": "ipython3",
   "version": "3.7.4"
  }
 },
 "nbformat": 4,
 "nbformat_minor": 2
}
