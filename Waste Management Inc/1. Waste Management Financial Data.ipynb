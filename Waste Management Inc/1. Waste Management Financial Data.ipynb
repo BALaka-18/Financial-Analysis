{
 "cells": [
  {
   "cell_type": "markdown",
   "metadata": {},
   "source": [
    "# Waste Management \n",
    "\n",
    "Waste Management, Inc. is an American waste management, comprehensive waste, and environmental services company in North America. Founded in 1968, the company is headquartered in the First City Tower in Houston, Texas.\n",
    "\n",
    "\n",
    "# Definitions\n",
    "\n",
    "1. Open- Price of a stock when the market opens for trading (For the day).\n",
    "2. High- Highest price at which the stock was traded for on the given day.\n",
    "3. Low- Lowest price at which the stock was traded for on the given day. \n",
    "4. Close- Price of the stock when the market closes for trading (For the day). \n",
    "\n",
    "Closing Price is the most important price because it is the final price at which the market closes. \n",
    "If closing price is higher than the opening, it is considered a positive day and vice versa. (Negative day). \n",
    "\n",
    "\n",
    "Adjusted closing price amends a stock's closing price to accurately reflect that stock's value after accounting for any corporate actions.\n",
    "The closing price is the 'raw' price which is just the cash value of the last transacted price before the market closes.\n",
    "Adjusted closing price factors in corporate actions such as stock splits, dividends / distributions and rights offerings."
   ]
  },
  {
   "cell_type": "code",
   "execution_count": 1,
   "metadata": {},
   "outputs": [
    {
     "name": "stderr",
     "output_type": "stream",
     "text": [
      "D:\\ProgramData\\Anaconda3\\lib\\site-packages\\mpl_finance.py:22: DeprecationWarning: \n",
      "\n",
      "  =================================================================\n",
      "\n",
      "   WARNING: `mpl_finance` is deprecated:\n",
      "\n",
      "    Please use `mplfinance` instead (no hyphen, no underscore).\n",
      "\n",
      "    To install: `pip install --upgrade mplfinance` \n",
      "\n",
      "   For more information, see: https://pypi.org/project/mplfinance/\n",
      "\n",
      "  =================================================================\n",
      "\n",
      "  category=DeprecationWarning)\n"
     ]
    }
   ],
   "source": [
    "import warnings\n",
    "warnings.filterwarnings('ignore')  # Hide warnings\n",
    "import datetime as dt\n",
    "import pandas as pd\n",
    "pd.core.common.is_list_like = pd.api.types.is_list_like\n",
    "import pandas_datareader.data as web\n",
    "import numpy as np\n",
    "import matplotlib.pyplot as plt\n",
    "import seaborn as sns\n",
    "\n",
    "\n",
    "from mpl_finance import candlestick_ohlc\n",
    "import matplotlib.dates as mdates"
   ]
  },
  {
   "cell_type": "code",
   "execution_count": 2,
   "metadata": {},
   "outputs": [],
   "source": [
    "#WM \n",
    "#Getting stock price data\n",
    "\n",
    "start = dt.datetime(2000, 1, 1)\n",
    "end = dt.datetime.now()\n",
    "df = web.DataReader(\"WM\", 'yahoo', start, end)  # Collects data\n",
    "df.reset_index(inplace=True)\n",
    "df.set_index(\"Date\", inplace=True)\n",
    "\n",
    "#prices in USD"
   ]
  },
  {
   "cell_type": "code",
   "execution_count": 3,
   "metadata": {},
   "outputs": [
    {
     "data": {
      "text/html": [
       "<div>\n",
       "<style scoped>\n",
       "    .dataframe tbody tr th:only-of-type {\n",
       "        vertical-align: middle;\n",
       "    }\n",
       "\n",
       "    .dataframe tbody tr th {\n",
       "        vertical-align: top;\n",
       "    }\n",
       "\n",
       "    .dataframe thead th {\n",
       "        text-align: right;\n",
       "    }\n",
       "</style>\n",
       "<table border=\"1\" class=\"dataframe\">\n",
       "  <thead>\n",
       "    <tr style=\"text-align: right;\">\n",
       "      <th></th>\n",
       "      <th>High</th>\n",
       "      <th>Low</th>\n",
       "      <th>Open</th>\n",
       "      <th>Close</th>\n",
       "      <th>Volume</th>\n",
       "      <th>Adj Close</th>\n",
       "    </tr>\n",
       "    <tr>\n",
       "      <th>Date</th>\n",
       "      <th></th>\n",
       "      <th></th>\n",
       "      <th></th>\n",
       "      <th></th>\n",
       "      <th></th>\n",
       "      <th></th>\n",
       "    </tr>\n",
       "  </thead>\n",
       "  <tbody>\n",
       "    <tr>\n",
       "      <td>1999-12-31</td>\n",
       "      <td>17.4375</td>\n",
       "      <td>16.8750</td>\n",
       "      <td>17.0000</td>\n",
       "      <td>17.1875</td>\n",
       "      <td>2933200.0</td>\n",
       "      <td>10.462649</td>\n",
       "    </tr>\n",
       "    <tr>\n",
       "      <td>2000-01-03</td>\n",
       "      <td>17.8750</td>\n",
       "      <td>16.6875</td>\n",
       "      <td>17.7500</td>\n",
       "      <td>17.3750</td>\n",
       "      <td>3833200.0</td>\n",
       "      <td>10.576781</td>\n",
       "    </tr>\n",
       "    <tr>\n",
       "      <td>2000-01-04</td>\n",
       "      <td>18.0000</td>\n",
       "      <td>17.1250</td>\n",
       "      <td>17.3125</td>\n",
       "      <td>17.3125</td>\n",
       "      <td>4736900.0</td>\n",
       "      <td>10.538737</td>\n",
       "    </tr>\n",
       "    <tr>\n",
       "      <td>2000-01-05</td>\n",
       "      <td>17.6250</td>\n",
       "      <td>17.1875</td>\n",
       "      <td>17.2500</td>\n",
       "      <td>17.3750</td>\n",
       "      <td>2676000.0</td>\n",
       "      <td>10.576781</td>\n",
       "    </tr>\n",
       "    <tr>\n",
       "      <td>2000-01-06</td>\n",
       "      <td>17.3750</td>\n",
       "      <td>16.6875</td>\n",
       "      <td>17.3750</td>\n",
       "      <td>17.2500</td>\n",
       "      <td>2428500.0</td>\n",
       "      <td>10.500694</td>\n",
       "    </tr>\n",
       "  </tbody>\n",
       "</table>\n",
       "</div>"
      ],
      "text/plain": [
       "               High      Low     Open    Close     Volume  Adj Close\n",
       "Date                                                                \n",
       "1999-12-31  17.4375  16.8750  17.0000  17.1875  2933200.0  10.462649\n",
       "2000-01-03  17.8750  16.6875  17.7500  17.3750  3833200.0  10.576781\n",
       "2000-01-04  18.0000  17.1250  17.3125  17.3125  4736900.0  10.538737\n",
       "2000-01-05  17.6250  17.1875  17.2500  17.3750  2676000.0  10.576781\n",
       "2000-01-06  17.3750  16.6875  17.3750  17.2500  2428500.0  10.500694"
      ]
     },
     "execution_count": 3,
     "metadata": {},
     "output_type": "execute_result"
    }
   ],
   "source": [
    "df.head()"
   ]
  },
  {
   "cell_type": "code",
   "execution_count": 4,
   "metadata": {},
   "outputs": [
    {
     "data": {
      "text/html": [
       "<div>\n",
       "<style scoped>\n",
       "    .dataframe tbody tr th:only-of-type {\n",
       "        vertical-align: middle;\n",
       "    }\n",
       "\n",
       "    .dataframe tbody tr th {\n",
       "        vertical-align: top;\n",
       "    }\n",
       "\n",
       "    .dataframe thead th {\n",
       "        text-align: right;\n",
       "    }\n",
       "</style>\n",
       "<table border=\"1\" class=\"dataframe\">\n",
       "  <thead>\n",
       "    <tr style=\"text-align: right;\">\n",
       "      <th></th>\n",
       "      <th>High</th>\n",
       "      <th>Low</th>\n",
       "      <th>Open</th>\n",
       "      <th>Close</th>\n",
       "      <th>Volume</th>\n",
       "      <th>Adj Close</th>\n",
       "    </tr>\n",
       "    <tr>\n",
       "      <th>Date</th>\n",
       "      <th></th>\n",
       "      <th></th>\n",
       "      <th></th>\n",
       "      <th></th>\n",
       "      <th></th>\n",
       "      <th></th>\n",
       "    </tr>\n",
       "  </thead>\n",
       "  <tbody>\n",
       "    <tr>\n",
       "      <td>2020-07-06</td>\n",
       "      <td>106.089996</td>\n",
       "      <td>104.419998</td>\n",
       "      <td>105.790001</td>\n",
       "      <td>105.209999</td>\n",
       "      <td>1868200.0</td>\n",
       "      <td>105.209999</td>\n",
       "    </tr>\n",
       "    <tr>\n",
       "      <td>2020-07-07</td>\n",
       "      <td>105.260002</td>\n",
       "      <td>104.320000</td>\n",
       "      <td>104.720001</td>\n",
       "      <td>104.620003</td>\n",
       "      <td>1585000.0</td>\n",
       "      <td>104.620003</td>\n",
       "    </tr>\n",
       "    <tr>\n",
       "      <td>2020-07-08</td>\n",
       "      <td>104.510002</td>\n",
       "      <td>102.480003</td>\n",
       "      <td>104.050003</td>\n",
       "      <td>103.120003</td>\n",
       "      <td>1728400.0</td>\n",
       "      <td>103.120003</td>\n",
       "    </tr>\n",
       "    <tr>\n",
       "      <td>2020-07-09</td>\n",
       "      <td>103.000000</td>\n",
       "      <td>100.949997</td>\n",
       "      <td>102.879997</td>\n",
       "      <td>102.080002</td>\n",
       "      <td>2029500.0</td>\n",
       "      <td>102.080002</td>\n",
       "    </tr>\n",
       "    <tr>\n",
       "      <td>2020-07-10</td>\n",
       "      <td>103.860001</td>\n",
       "      <td>102.019997</td>\n",
       "      <td>102.019997</td>\n",
       "      <td>103.820000</td>\n",
       "      <td>1189200.0</td>\n",
       "      <td>103.820000</td>\n",
       "    </tr>\n",
       "  </tbody>\n",
       "</table>\n",
       "</div>"
      ],
      "text/plain": [
       "                  High         Low        Open       Close     Volume  \\\n",
       "Date                                                                    \n",
       "2020-07-06  106.089996  104.419998  105.790001  105.209999  1868200.0   \n",
       "2020-07-07  105.260002  104.320000  104.720001  104.620003  1585000.0   \n",
       "2020-07-08  104.510002  102.480003  104.050003  103.120003  1728400.0   \n",
       "2020-07-09  103.000000  100.949997  102.879997  102.080002  2029500.0   \n",
       "2020-07-10  103.860001  102.019997  102.019997  103.820000  1189200.0   \n",
       "\n",
       "             Adj Close  \n",
       "Date                    \n",
       "2020-07-06  105.209999  \n",
       "2020-07-07  104.620003  \n",
       "2020-07-08  103.120003  \n",
       "2020-07-09  102.080002  \n",
       "2020-07-10  103.820000  "
      ]
     },
     "execution_count": 4,
     "metadata": {},
     "output_type": "execute_result"
    }
   ],
   "source": [
    "df.tail()"
   ]
  },
  {
   "cell_type": "code",
   "execution_count": 5,
   "metadata": {},
   "outputs": [],
   "source": [
    "#Making the data as csv\n",
    "\n",
    "df.to_csv(\"WM_data.csv\")"
   ]
  },
  {
   "cell_type": "code",
   "execution_count": 6,
   "metadata": {},
   "outputs": [],
   "source": [
    "#Reading the same data from local csv file\n",
    "\n",
    "data=pd.read_csv(\"WM_data.csv\" ,parse_dates=True, index_col=0)"
   ]
  },
  {
   "cell_type": "code",
   "execution_count": 7,
   "metadata": {},
   "outputs": [
    {
     "data": {
      "text/plain": [
       "Text(0, 0.5, 'Stock Value')"
      ]
     },
     "execution_count": 7,
     "metadata": {},
     "output_type": "execute_result"
    },
    {
     "data": {
      "image/png": "[encoded data removed]",
      "text/plain": [
       "<Figure size 864x576 with 1 Axes>"
      ]
     },
     "metadata": {
      "needs_background": "light"
     },
     "output_type": "display_data"
    }
   ],
   "source": [
    "plt.figure(figsize=(12, 8))\n",
    "plt.plot(data[\"Open\"])\n",
    "plt.title('Stock Opening Value (USD)', fontsize = 20)\n",
    "plt.xlabel('Time')\n",
    "plt.ylabel('Stock Value')"
   ]
  },
  {
   "cell_type": "code",
   "execution_count": 8,
   "metadata": {},
   "outputs": [
    {
     "data": {
      "text/plain": [
       "Text(0, 0.5, 'Stock Value')"
      ]
     },
     "execution_count": 8,
     "metadata": {},
     "output_type": "execute_result"
    },
    {
     "data": {
      "image/png": "[encoded data removed]",
      "text/plain": [
       "<Figure size 864x576 with 1 Axes>"
      ]
     },
     "metadata": {
      "needs_background": "light"
     },
     "output_type": "display_data"
    }
   ],
   "source": [
    "plt.figure(figsize=(12, 8))\n",
    "plt.plot(data[\"Close\"])\n",
    "plt.title('Stock Closing Value (USD)', fontsize = 20)\n",
    "plt.xlabel('Time')\n",
    "plt.ylabel('Stock Value')"
   ]
  },
  {
   "cell_type": "markdown",
   "metadata": {},
   "source": [
    "# Stock Data Manipulation"
   ]
  },
  {
   "cell_type": "markdown",
   "metadata": {},
   "source": [
    "Moving averages are created by averaging over historical price data, and result in a curve that smooths out price over time. They can be useful indicators for traders, particuarly when different moving averages cross as this can indicate an uptrend/ downtrend in price. An uptrend commonly occurs when a shorter day (low latency) moving average crosses and remains above a longer day (high latency) moving average, and vice versa for a downtrend.\n",
    "\n",
    "1. A moving average (MA) is a stock indicator that is commonly used in technical analysis.\n",
    "\n",
    "2. The reason for calculating the moving average of a stock is to help smooth out the price data over a specified period of time by creating a constantly updated average price.\n",
    "\n",
    "3. A simple moving average (SMA) is a calculation that takes the arithmetic mean of a given set of prices over the specific number of days in the past; for example, over the previous 15, 30, 100, or 200 days.\n",
    "\n",
    "For more info, visit- https://www.investopedia.com/terms/m/movingaverage.asp"
   ]
  },
  {
   "cell_type": "code",
   "execution_count": 9,
   "metadata": {},
   "outputs": [
    {
     "data": {
      "text/html": [
       "<div>\n",
       "<style scoped>\n",
       "    .dataframe tbody tr th:only-of-type {\n",
       "        vertical-align: middle;\n",
       "    }\n",
       "\n",
       "    .dataframe tbody tr th {\n",
       "        vertical-align: top;\n",
       "    }\n",
       "\n",
       "    .dataframe thead th {\n",
       "        text-align: right;\n",
       "    }\n",
       "</style>\n",
       "<table border=\"1\" class=\"dataframe\">\n",
       "  <thead>\n",
       "    <tr style=\"text-align: right;\">\n",
       "      <th></th>\n",
       "      <th>High</th>\n",
       "      <th>Low</th>\n",
       "      <th>Open</th>\n",
       "      <th>Close</th>\n",
       "      <th>Volume</th>\n",
       "      <th>Adj Close</th>\n",
       "    </tr>\n",
       "    <tr>\n",
       "      <th>Date</th>\n",
       "      <th></th>\n",
       "      <th></th>\n",
       "      <th></th>\n",
       "      <th></th>\n",
       "      <th></th>\n",
       "      <th></th>\n",
       "    </tr>\n",
       "  </thead>\n",
       "  <tbody>\n",
       "    <tr>\n",
       "      <td>1999-12-31</td>\n",
       "      <td>17.437500</td>\n",
       "      <td>16.875000</td>\n",
       "      <td>17.000000</td>\n",
       "      <td>17.187500</td>\n",
       "      <td>2933200.0</td>\n",
       "      <td>10.462649</td>\n",
       "    </tr>\n",
       "    <tr>\n",
       "      <td>2000-01-03</td>\n",
       "      <td>17.875000</td>\n",
       "      <td>16.687500</td>\n",
       "      <td>17.750000</td>\n",
       "      <td>17.375000</td>\n",
       "      <td>3833200.0</td>\n",
       "      <td>10.576781</td>\n",
       "    </tr>\n",
       "    <tr>\n",
       "      <td>2000-01-04</td>\n",
       "      <td>18.000000</td>\n",
       "      <td>17.125000</td>\n",
       "      <td>17.312500</td>\n",
       "      <td>17.312500</td>\n",
       "      <td>4736900.0</td>\n",
       "      <td>10.538737</td>\n",
       "    </tr>\n",
       "    <tr>\n",
       "      <td>2000-01-05</td>\n",
       "      <td>17.625000</td>\n",
       "      <td>17.187500</td>\n",
       "      <td>17.250000</td>\n",
       "      <td>17.375000</td>\n",
       "      <td>2676000.0</td>\n",
       "      <td>10.576781</td>\n",
       "    </tr>\n",
       "    <tr>\n",
       "      <td>2000-01-06</td>\n",
       "      <td>17.375000</td>\n",
       "      <td>16.687500</td>\n",
       "      <td>17.375000</td>\n",
       "      <td>17.250000</td>\n",
       "      <td>2428500.0</td>\n",
       "      <td>10.500694</td>\n",
       "    </tr>\n",
       "    <tr>\n",
       "      <td>...</td>\n",
       "      <td>...</td>\n",
       "      <td>...</td>\n",
       "      <td>...</td>\n",
       "      <td>...</td>\n",
       "      <td>...</td>\n",
       "      <td>...</td>\n",
       "    </tr>\n",
       "    <tr>\n",
       "      <td>2020-07-06</td>\n",
       "      <td>106.089996</td>\n",
       "      <td>104.419998</td>\n",
       "      <td>105.790001</td>\n",
       "      <td>105.209999</td>\n",
       "      <td>1868200.0</td>\n",
       "      <td>105.209999</td>\n",
       "    </tr>\n",
       "    <tr>\n",
       "      <td>2020-07-07</td>\n",
       "      <td>105.260002</td>\n",
       "      <td>104.320000</td>\n",
       "      <td>104.720001</td>\n",
       "      <td>104.620003</td>\n",
       "      <td>1585000.0</td>\n",
       "      <td>104.620003</td>\n",
       "    </tr>\n",
       "    <tr>\n",
       "      <td>2020-07-08</td>\n",
       "      <td>104.510002</td>\n",
       "      <td>102.480003</td>\n",
       "      <td>104.050003</td>\n",
       "      <td>103.120003</td>\n",
       "      <td>1728400.0</td>\n",
       "      <td>103.120003</td>\n",
       "    </tr>\n",
       "    <tr>\n",
       "      <td>2020-07-09</td>\n",
       "      <td>103.000000</td>\n",
       "      <td>100.949997</td>\n",
       "      <td>102.879997</td>\n",
       "      <td>102.080002</td>\n",
       "      <td>2029500.0</td>\n",
       "      <td>102.080002</td>\n",
       "    </tr>\n",
       "    <tr>\n",
       "      <td>2020-07-10</td>\n",
       "      <td>103.860001</td>\n",
       "      <td>102.019997</td>\n",
       "      <td>102.019997</td>\n",
       "      <td>103.820000</td>\n",
       "      <td>1189200.0</td>\n",
       "      <td>103.820000</td>\n",
       "    </tr>\n",
       "  </tbody>\n",
       "</table>\n",
       "<p>5164 rows × 6 columns</p>\n",
       "</div>"
      ],
      "text/plain": [
       "                  High         Low        Open       Close     Volume  \\\n",
       "Date                                                                    \n",
       "1999-12-31   17.437500   16.875000   17.000000   17.187500  2933200.0   \n",
       "2000-01-03   17.875000   16.687500   17.750000   17.375000  3833200.0   \n",
       "2000-01-04   18.000000   17.125000   17.312500   17.312500  4736900.0   \n",
       "2000-01-05   17.625000   17.187500   17.250000   17.375000  2676000.0   \n",
       "2000-01-06   17.375000   16.687500   17.375000   17.250000  2428500.0   \n",
       "...                ...         ...         ...         ...        ...   \n",
       "2020-07-06  106.089996  104.419998  105.790001  105.209999  1868200.0   \n",
       "2020-07-07  105.260002  104.320000  104.720001  104.620003  1585000.0   \n",
       "2020-07-08  104.510002  102.480003  104.050003  103.120003  1728400.0   \n",
       "2020-07-09  103.000000  100.949997  102.879997  102.080002  2029500.0   \n",
       "2020-07-10  103.860001  102.019997  102.019997  103.820000  1189200.0   \n",
       "\n",
       "             Adj Close  \n",
       "Date                    \n",
       "1999-12-31   10.462649  \n",
       "2000-01-03   10.576781  \n",
       "2000-01-04   10.538737  \n",
       "2000-01-05   10.576781  \n",
       "2000-01-06   10.500694  \n",
       "...                ...  \n",
       "2020-07-06  105.209999  \n",
       "2020-07-07  104.620003  \n",
       "2020-07-08  103.120003  \n",
       "2020-07-09  102.080002  \n",
       "2020-07-10  103.820000  \n",
       "\n",
       "[5164 rows x 6 columns]"
      ]
     },
     "execution_count": 9,
     "metadata": {},
     "output_type": "execute_result"
    }
   ],
   "source": [
    "data"
   ]
  },
  {
   "cell_type": "code",
   "execution_count": 10,
   "metadata": {},
   "outputs": [
    {
     "data": {
      "text/html": [
       "<div>\n",
       "<style scoped>\n",
       "    .dataframe tbody tr th:only-of-type {\n",
       "        vertical-align: middle;\n",
       "    }\n",
       "\n",
       "    .dataframe tbody tr th {\n",
       "        vertical-align: top;\n",
       "    }\n",
       "\n",
       "    .dataframe thead th {\n",
       "        text-align: right;\n",
       "    }\n",
       "</style>\n",
       "<table border=\"1\" class=\"dataframe\">\n",
       "  <thead>\n",
       "    <tr style=\"text-align: right;\">\n",
       "      <th></th>\n",
       "      <th>High</th>\n",
       "      <th>Low</th>\n",
       "      <th>Open</th>\n",
       "      <th>Close</th>\n",
       "      <th>Volume</th>\n",
       "      <th>Adj Close</th>\n",
       "      <th>100ma</th>\n",
       "    </tr>\n",
       "    <tr>\n",
       "      <th>Date</th>\n",
       "      <th></th>\n",
       "      <th></th>\n",
       "      <th></th>\n",
       "      <th></th>\n",
       "      <th></th>\n",
       "      <th></th>\n",
       "      <th></th>\n",
       "    </tr>\n",
       "  </thead>\n",
       "  <tbody>\n",
       "    <tr>\n",
       "      <td>1999-12-31</td>\n",
       "      <td>17.4375</td>\n",
       "      <td>16.8750</td>\n",
       "      <td>17.0000</td>\n",
       "      <td>17.1875</td>\n",
       "      <td>2933200.0</td>\n",
       "      <td>10.462649</td>\n",
       "      <td>17.187500</td>\n",
       "    </tr>\n",
       "    <tr>\n",
       "      <td>2000-01-03</td>\n",
       "      <td>17.8750</td>\n",
       "      <td>16.6875</td>\n",
       "      <td>17.7500</td>\n",
       "      <td>17.3750</td>\n",
       "      <td>3833200.0</td>\n",
       "      <td>10.576781</td>\n",
       "      <td>17.281250</td>\n",
       "    </tr>\n",
       "    <tr>\n",
       "      <td>2000-01-04</td>\n",
       "      <td>18.0000</td>\n",
       "      <td>17.1250</td>\n",
       "      <td>17.3125</td>\n",
       "      <td>17.3125</td>\n",
       "      <td>4736900.0</td>\n",
       "      <td>10.538737</td>\n",
       "      <td>17.291667</td>\n",
       "    </tr>\n",
       "    <tr>\n",
       "      <td>2000-01-05</td>\n",
       "      <td>17.6250</td>\n",
       "      <td>17.1875</td>\n",
       "      <td>17.2500</td>\n",
       "      <td>17.3750</td>\n",
       "      <td>2676000.0</td>\n",
       "      <td>10.576781</td>\n",
       "      <td>17.312500</td>\n",
       "    </tr>\n",
       "    <tr>\n",
       "      <td>2000-01-06</td>\n",
       "      <td>17.3750</td>\n",
       "      <td>16.6875</td>\n",
       "      <td>17.3750</td>\n",
       "      <td>17.2500</td>\n",
       "      <td>2428500.0</td>\n",
       "      <td>10.500694</td>\n",
       "      <td>17.300000</td>\n",
       "    </tr>\n",
       "  </tbody>\n",
       "</table>\n",
       "</div>"
      ],
      "text/plain": [
       "               High      Low     Open    Close     Volume  Adj Close  \\\n",
       "Date                                                                   \n",
       "1999-12-31  17.4375  16.8750  17.0000  17.1875  2933200.0  10.462649   \n",
       "2000-01-03  17.8750  16.6875  17.7500  17.3750  3833200.0  10.576781   \n",
       "2000-01-04  18.0000  17.1250  17.3125  17.3125  4736900.0  10.538737   \n",
       "2000-01-05  17.6250  17.1875  17.2500  17.3750  2676000.0  10.576781   \n",
       "2000-01-06  17.3750  16.6875  17.3750  17.2500  2428500.0  10.500694   \n",
       "\n",
       "                100ma  \n",
       "Date                   \n",
       "1999-12-31  17.187500  \n",
       "2000-01-03  17.281250  \n",
       "2000-01-04  17.291667  \n",
       "2000-01-05  17.312500  \n",
       "2000-01-06  17.300000  "
      ]
     },
     "execution_count": 10,
     "metadata": {},
     "output_type": "execute_result"
    }
   ],
   "source": [
    "# Create, and add 100 day moving average to dataframe\n",
    "data['100ma'] = data['Close'].rolling(window=100,min_periods=0).mean()\n",
    "data.head()"
   ]
  },
  {
   "cell_type": "code",
   "execution_count": 13,
   "metadata": {},
   "outputs": [
    {
     "data": {
      "text/plain": [
       "Text(0, 0.5, 'Stock Value')"
      ]
     },
     "execution_count": 13,
     "metadata": {},
     "output_type": "execute_result"
    },
    {
     "data": {
      "image/png": "[encoded data removed]",
      "text/plain": [
       "<Figure size 864x576 with 1 Axes>"
      ]
     },
     "metadata": {
      "needs_background": "light"
     },
     "output_type": "display_data"
    }
   ],
   "source": [
    "plt.figure(figsize=(12, 8))\n",
    "plt.plot(data[[\"100ma\",\"Close\"]])\n",
    "plt.title('Stock Closing Value (USD) and Moving Average(100 Day) ', fontsize = 20)\n",
    "plt.legend(labels=data[[\"100ma\",\"Close\"]])\n",
    "plt.xlabel('Time')\n",
    "plt.ylabel('Stock Value')"
   ]
  },
  {
   "cell_type": "code",
   "execution_count": 14,
   "metadata": {},
   "outputs": [
    {
     "data": {
      "text/html": [
       "<div>\n",
       "<style scoped>\n",
       "    .dataframe tbody tr th:only-of-type {\n",
       "        vertical-align: middle;\n",
       "    }\n",
       "\n",
       "    .dataframe tbody tr th {\n",
       "        vertical-align: top;\n",
       "    }\n",
       "\n",
       "    .dataframe thead th {\n",
       "        text-align: right;\n",
       "    }\n",
       "</style>\n",
       "<table border=\"1\" class=\"dataframe\">\n",
       "  <thead>\n",
       "    <tr style=\"text-align: right;\">\n",
       "      <th></th>\n",
       "      <th>High</th>\n",
       "      <th>Low</th>\n",
       "      <th>Open</th>\n",
       "      <th>Close</th>\n",
       "      <th>Volume</th>\n",
       "      <th>Adj Close</th>\n",
       "      <th>100ma</th>\n",
       "      <th>180ma</th>\n",
       "    </tr>\n",
       "    <tr>\n",
       "      <th>Date</th>\n",
       "      <th></th>\n",
       "      <th></th>\n",
       "      <th></th>\n",
       "      <th></th>\n",
       "      <th></th>\n",
       "      <th></th>\n",
       "      <th></th>\n",
       "      <th></th>\n",
       "    </tr>\n",
       "  </thead>\n",
       "  <tbody>\n",
       "    <tr>\n",
       "      <td>1999-12-31</td>\n",
       "      <td>17.4375</td>\n",
       "      <td>16.8750</td>\n",
       "      <td>17.0000</td>\n",
       "      <td>17.1875</td>\n",
       "      <td>2933200.0</td>\n",
       "      <td>10.462649</td>\n",
       "      <td>17.187500</td>\n",
       "      <td>17.187500</td>\n",
       "    </tr>\n",
       "    <tr>\n",
       "      <td>2000-01-03</td>\n",
       "      <td>17.8750</td>\n",
       "      <td>16.6875</td>\n",
       "      <td>17.7500</td>\n",
       "      <td>17.3750</td>\n",
       "      <td>3833200.0</td>\n",
       "      <td>10.576781</td>\n",
       "      <td>17.281250</td>\n",
       "      <td>17.281250</td>\n",
       "    </tr>\n",
       "    <tr>\n",
       "      <td>2000-01-04</td>\n",
       "      <td>18.0000</td>\n",
       "      <td>17.1250</td>\n",
       "      <td>17.3125</td>\n",
       "      <td>17.3125</td>\n",
       "      <td>4736900.0</td>\n",
       "      <td>10.538737</td>\n",
       "      <td>17.291667</td>\n",
       "      <td>17.291667</td>\n",
       "    </tr>\n",
       "    <tr>\n",
       "      <td>2000-01-05</td>\n",
       "      <td>17.6250</td>\n",
       "      <td>17.1875</td>\n",
       "      <td>17.2500</td>\n",
       "      <td>17.3750</td>\n",
       "      <td>2676000.0</td>\n",
       "      <td>10.576781</td>\n",
       "      <td>17.312500</td>\n",
       "      <td>17.312500</td>\n",
       "    </tr>\n",
       "    <tr>\n",
       "      <td>2000-01-06</td>\n",
       "      <td>17.3750</td>\n",
       "      <td>16.6875</td>\n",
       "      <td>17.3750</td>\n",
       "      <td>17.2500</td>\n",
       "      <td>2428500.0</td>\n",
       "      <td>10.500694</td>\n",
       "      <td>17.300000</td>\n",
       "      <td>17.300000</td>\n",
       "    </tr>\n",
       "  </tbody>\n",
       "</table>\n",
       "</div>"
      ],
      "text/plain": [
       "               High      Low     Open    Close     Volume  Adj Close  \\\n",
       "Date                                                                   \n",
       "1999-12-31  17.4375  16.8750  17.0000  17.1875  2933200.0  10.462649   \n",
       "2000-01-03  17.8750  16.6875  17.7500  17.3750  3833200.0  10.576781   \n",
       "2000-01-04  18.0000  17.1250  17.3125  17.3125  4736900.0  10.538737   \n",
       "2000-01-05  17.6250  17.1875  17.2500  17.3750  2676000.0  10.576781   \n",
       "2000-01-06  17.3750  16.6875  17.3750  17.2500  2428500.0  10.500694   \n",
       "\n",
       "                100ma      180ma  \n",
       "Date                              \n",
       "1999-12-31  17.187500  17.187500  \n",
       "2000-01-03  17.281250  17.281250  \n",
       "2000-01-04  17.291667  17.291667  \n",
       "2000-01-05  17.312500  17.312500  \n",
       "2000-01-06  17.300000  17.300000  "
      ]
     },
     "execution_count": 14,
     "metadata": {},
     "output_type": "execute_result"
    }
   ],
   "source": [
    "# Create, and add 180 day moving average to dataframe\n",
    "data['180ma'] = data['Close'].rolling(window=180,min_periods=0).mean()\n",
    "data.head()"
   ]
  },
  {
   "cell_type": "code",
   "execution_count": 15,
   "metadata": {},
   "outputs": [
    {
     "data": {
      "text/plain": [
       "Text(0, 0.5, 'Stock Value')"
      ]
     },
     "execution_count": 15,
     "metadata": {},
     "output_type": "execute_result"
    },
    {
     "data": {
      "image/png": "[encoded data removed]",
      "text/plain": [
       "<Figure size 864x576 with 1 Axes>"
      ]
     },
     "metadata": {
      "needs_background": "light"
     },
     "output_type": "display_data"
    }
   ],
   "source": [
    "plt.figure(figsize=(12, 8))\n",
    "plt.plot(data[[\"180ma\",\"Close\"]])\n",
    "plt.title('Stock Closing Value (USD) and Moving Average(180 Day) ', fontsize = 20)\n",
    "plt.legend(labels=data[[\"180ma\",\"Close\"]])\n",
    "plt.xlabel('Time')\n",
    "plt.ylabel('Stock Value')"
   ]
  },
  {
   "cell_type": "code",
   "execution_count": 16,
   "metadata": {},
   "outputs": [
    {
     "data": {
      "text/html": [
       "<div>\n",
       "<style scoped>\n",
       "    .dataframe tbody tr th:only-of-type {\n",
       "        vertical-align: middle;\n",
       "    }\n",
       "\n",
       "    .dataframe tbody tr th {\n",
       "        vertical-align: top;\n",
       "    }\n",
       "\n",
       "    .dataframe thead th {\n",
       "        text-align: right;\n",
       "    }\n",
       "</style>\n",
       "<table border=\"1\" class=\"dataframe\">\n",
       "  <thead>\n",
       "    <tr style=\"text-align: right;\">\n",
       "      <th></th>\n",
       "      <th>High</th>\n",
       "      <th>Low</th>\n",
       "      <th>Open</th>\n",
       "      <th>Close</th>\n",
       "      <th>Volume</th>\n",
       "      <th>Adj Close</th>\n",
       "      <th>100ma</th>\n",
       "      <th>180ma</th>\n",
       "      <th>360ma</th>\n",
       "    </tr>\n",
       "    <tr>\n",
       "      <th>Date</th>\n",
       "      <th></th>\n",
       "      <th></th>\n",
       "      <th></th>\n",
       "      <th></th>\n",
       "      <th></th>\n",
       "      <th></th>\n",
       "      <th></th>\n",
       "      <th></th>\n",
       "      <th></th>\n",
       "    </tr>\n",
       "  </thead>\n",
       "  <tbody>\n",
       "    <tr>\n",
       "      <td>1999-12-31</td>\n",
       "      <td>17.4375</td>\n",
       "      <td>16.8750</td>\n",
       "      <td>17.0000</td>\n",
       "      <td>17.1875</td>\n",
       "      <td>2933200.0</td>\n",
       "      <td>10.462649</td>\n",
       "      <td>17.187500</td>\n",
       "      <td>17.187500</td>\n",
       "      <td>17.187500</td>\n",
       "    </tr>\n",
       "    <tr>\n",
       "      <td>2000-01-03</td>\n",
       "      <td>17.8750</td>\n",
       "      <td>16.6875</td>\n",
       "      <td>17.7500</td>\n",
       "      <td>17.3750</td>\n",
       "      <td>3833200.0</td>\n",
       "      <td>10.576781</td>\n",
       "      <td>17.281250</td>\n",
       "      <td>17.281250</td>\n",
       "      <td>17.281250</td>\n",
       "    </tr>\n",
       "    <tr>\n",
       "      <td>2000-01-04</td>\n",
       "      <td>18.0000</td>\n",
       "      <td>17.1250</td>\n",
       "      <td>17.3125</td>\n",
       "      <td>17.3125</td>\n",
       "      <td>4736900.0</td>\n",
       "      <td>10.538737</td>\n",
       "      <td>17.291667</td>\n",
       "      <td>17.291667</td>\n",
       "      <td>17.291667</td>\n",
       "    </tr>\n",
       "    <tr>\n",
       "      <td>2000-01-05</td>\n",
       "      <td>17.6250</td>\n",
       "      <td>17.1875</td>\n",
       "      <td>17.2500</td>\n",
       "      <td>17.3750</td>\n",
       "      <td>2676000.0</td>\n",
       "      <td>10.576781</td>\n",
       "      <td>17.312500</td>\n",
       "      <td>17.312500</td>\n",
       "      <td>17.312500</td>\n",
       "    </tr>\n",
       "    <tr>\n",
       "      <td>2000-01-06</td>\n",
       "      <td>17.3750</td>\n",
       "      <td>16.6875</td>\n",
       "      <td>17.3750</td>\n",
       "      <td>17.2500</td>\n",
       "      <td>2428500.0</td>\n",
       "      <td>10.500694</td>\n",
       "      <td>17.300000</td>\n",
       "      <td>17.300000</td>\n",
       "      <td>17.300000</td>\n",
       "    </tr>\n",
       "  </tbody>\n",
       "</table>\n",
       "</div>"
      ],
      "text/plain": [
       "               High      Low     Open    Close     Volume  Adj Close  \\\n",
       "Date                                                                   \n",
       "1999-12-31  17.4375  16.8750  17.0000  17.1875  2933200.0  10.462649   \n",
       "2000-01-03  17.8750  16.6875  17.7500  17.3750  3833200.0  10.576781   \n",
       "2000-01-04  18.0000  17.1250  17.3125  17.3125  4736900.0  10.538737   \n",
       "2000-01-05  17.6250  17.1875  17.2500  17.3750  2676000.0  10.576781   \n",
       "2000-01-06  17.3750  16.6875  17.3750  17.2500  2428500.0  10.500694   \n",
       "\n",
       "                100ma      180ma      360ma  \n",
       "Date                                         \n",
       "1999-12-31  17.187500  17.187500  17.187500  \n",
       "2000-01-03  17.281250  17.281250  17.281250  \n",
       "2000-01-04  17.291667  17.291667  17.291667  \n",
       "2000-01-05  17.312500  17.312500  17.312500  \n",
       "2000-01-06  17.300000  17.300000  17.300000  "
      ]
     },
     "execution_count": 16,
     "metadata": {},
     "output_type": "execute_result"
    }
   ],
   "source": [
    "# Create, and add 360 day moving average to dataframe\n",
    "data['360ma'] = data['Close'].rolling(window=360,min_periods=0).mean()\n",
    "data.head()"
   ]
  },
  {
   "cell_type": "code",
   "execution_count": 17,
   "metadata": {},
   "outputs": [
    {
     "data": {
      "text/plain": [
       "Text(0, 0.5, 'Stock Value')"
      ]
     },
     "execution_count": 17,
     "metadata": {},
     "output_type": "execute_result"
    },
    {
     "data": {
      "image/png": "[encoded data removed]",
      "text/plain": [
       "<Figure size 864x576 with 1 Axes>"
      ]
     },
     "metadata": {
      "needs_background": "light"
     },
     "output_type": "display_data"
    }
   ],
   "source": [
    "plt.figure(figsize=(12, 8))\n",
    "plt.plot(data[[\"360ma\",\"Close\"]])\n",
    "plt.title('Stock Closing Value (USD) and Moving Average(360 Day) ', fontsize = 20)\n",
    "plt.legend(labels=data[[\"360ma\",\"Close\"]])\n",
    "plt.xlabel('Time')\n",
    "plt.ylabel('Stock Value')"
   ]
  },
  {
   "cell_type": "markdown",
   "metadata": {},
   "source": [
    "# Key Findings-\n",
    "\n",
    "1. The individual closing prices seem to very random and we cannot clearly understand them, using the technique of moving average, we are able to understand some stuff. \n",
    "\n",
    "2. The 100 day MA suggests that there were high ups and downs between 2002 and 2012, but after 2012 the company shares have continued to rise in value, indicating that the company is gaining value.\n",
    "\n",
    "3. Similar findings are suggested by the 180 and 360 day moving average. "
   ]
  },
  {
   "cell_type": "markdown",
   "metadata": {},
   "source": [
    "# Resampling\n",
    "\n",
    "Resampling is a very useful operation in Pandas for manipulating time series data. It involves changing the frequency of your time series observations.\n",
    "\n",
    "There are two types of resampling:\n",
    "\n",
    "Upsampling: Where you increase the frequency of the samples (e.g. minutes  →  seconds)\n",
    "\n",
    "Downsampling: Where you decrease the frequency of the samples (e.g. days  →  months)"
   ]
  },
  {
   "cell_type": "code",
   "execution_count": 38,
   "metadata": {},
   "outputs": [],
   "source": [
    "# Resample to get open-high-low-close (OHLC) on every 50 days of data\n",
    "df_ohlc_50 = data.Close.resample('50D').ohlc() \n",
    "df_volume_50 = data.Volume.resample('50D').sum()"
   ]
  },
  {
   "cell_type": "code",
   "execution_count": 39,
   "metadata": {},
   "outputs": [
    {
     "data": {
      "text/html": [
       "<div>\n",
       "<style scoped>\n",
       "    .dataframe tbody tr th:only-of-type {\n",
       "        vertical-align: middle;\n",
       "    }\n",
       "\n",
       "    .dataframe tbody tr th {\n",
       "        vertical-align: top;\n",
       "    }\n",
       "\n",
       "    .dataframe thead th {\n",
       "        text-align: right;\n",
       "    }\n",
       "</style>\n",
       "<table border=\"1\" class=\"dataframe\">\n",
       "  <thead>\n",
       "    <tr style=\"text-align: right;\">\n",
       "      <th></th>\n",
       "      <th>open</th>\n",
       "      <th>high</th>\n",
       "      <th>low</th>\n",
       "      <th>close</th>\n",
       "    </tr>\n",
       "    <tr>\n",
       "      <th>Date</th>\n",
       "      <th></th>\n",
       "      <th></th>\n",
       "      <th></th>\n",
       "      <th></th>\n",
       "    </tr>\n",
       "  </thead>\n",
       "  <tbody>\n",
       "    <tr>\n",
       "      <td>1999-12-31</td>\n",
       "      <td>17.1875</td>\n",
       "      <td>18.1250</td>\n",
       "      <td>14.5000</td>\n",
       "      <td>15.5000</td>\n",
       "    </tr>\n",
       "    <tr>\n",
       "      <td>2000-02-19</td>\n",
       "      <td>16.1250</td>\n",
       "      <td>16.1250</td>\n",
       "      <td>13.0625</td>\n",
       "      <td>14.9375</td>\n",
       "    </tr>\n",
       "    <tr>\n",
       "      <td>2000-04-09</td>\n",
       "      <td>15.5625</td>\n",
       "      <td>20.3750</td>\n",
       "      <td>13.5000</td>\n",
       "      <td>20.3750</td>\n",
       "    </tr>\n",
       "    <tr>\n",
       "      <td>2000-05-29</td>\n",
       "      <td>20.2500</td>\n",
       "      <td>20.3750</td>\n",
       "      <td>17.1250</td>\n",
       "      <td>19.0000</td>\n",
       "    </tr>\n",
       "    <tr>\n",
       "      <td>2000-07-18</td>\n",
       "      <td>18.8125</td>\n",
       "      <td>21.4375</td>\n",
       "      <td>18.1250</td>\n",
       "      <td>18.8750</td>\n",
       "    </tr>\n",
       "  </tbody>\n",
       "</table>\n",
       "</div>"
      ],
      "text/plain": [
       "               open     high      low    close\n",
       "Date                                          \n",
       "1999-12-31  17.1875  18.1250  14.5000  15.5000\n",
       "2000-02-19  16.1250  16.1250  13.0625  14.9375\n",
       "2000-04-09  15.5625  20.3750  13.5000  20.3750\n",
       "2000-05-29  20.2500  20.3750  17.1250  19.0000\n",
       "2000-07-18  18.8125  21.4375  18.1250  18.8750"
      ]
     },
     "execution_count": 39,
     "metadata": {},
     "output_type": "execute_result"
    }
   ],
   "source": [
    "df_ohlc_50.head()"
   ]
  },
  {
   "cell_type": "code",
   "execution_count": 40,
   "metadata": {},
   "outputs": [
    {
     "data": {
      "text/plain": [
       "Date\n",
       "1999-12-31    105782400.0\n",
       "2000-02-19    105656900.0\n",
       "2000-04-09     84342000.0\n",
       "2000-05-29     58136500.0\n",
       "2000-07-18     55838000.0\n",
       "Freq: 50D, Name: Volume, dtype: float64"
      ]
     },
     "execution_count": 40,
     "metadata": {},
     "output_type": "execute_result"
    }
   ],
   "source": [
    "df_volume_50.head()"
   ]
  },
  {
   "cell_type": "code",
   "execution_count": 41,
   "metadata": {},
   "outputs": [
    {
     "data": {
      "text/html": [
       "<div>\n",
       "<style scoped>\n",
       "    .dataframe tbody tr th:only-of-type {\n",
       "        vertical-align: middle;\n",
       "    }\n",
       "\n",
       "    .dataframe tbody tr th {\n",
       "        vertical-align: top;\n",
       "    }\n",
       "\n",
       "    .dataframe thead th {\n",
       "        text-align: right;\n",
       "    }\n",
       "</style>\n",
       "<table border=\"1\" class=\"dataframe\">\n",
       "  <thead>\n",
       "    <tr style=\"text-align: right;\">\n",
       "      <th></th>\n",
       "      <th>Date</th>\n",
       "      <th>open</th>\n",
       "      <th>high</th>\n",
       "      <th>low</th>\n",
       "      <th>close</th>\n",
       "    </tr>\n",
       "  </thead>\n",
       "  <tbody>\n",
       "    <tr>\n",
       "      <td>0</td>\n",
       "      <td>730119.0</td>\n",
       "      <td>17.1875</td>\n",
       "      <td>18.1250</td>\n",
       "      <td>14.5000</td>\n",
       "      <td>15.5000</td>\n",
       "    </tr>\n",
       "    <tr>\n",
       "      <td>1</td>\n",
       "      <td>730169.0</td>\n",
       "      <td>16.1250</td>\n",
       "      <td>16.1250</td>\n",
       "      <td>13.0625</td>\n",
       "      <td>14.9375</td>\n",
       "    </tr>\n",
       "    <tr>\n",
       "      <td>2</td>\n",
       "      <td>730219.0</td>\n",
       "      <td>15.5625</td>\n",
       "      <td>20.3750</td>\n",
       "      <td>13.5000</td>\n",
       "      <td>20.3750</td>\n",
       "    </tr>\n",
       "    <tr>\n",
       "      <td>3</td>\n",
       "      <td>730269.0</td>\n",
       "      <td>20.2500</td>\n",
       "      <td>20.3750</td>\n",
       "      <td>17.1250</td>\n",
       "      <td>19.0000</td>\n",
       "    </tr>\n",
       "    <tr>\n",
       "      <td>4</td>\n",
       "      <td>730319.0</td>\n",
       "      <td>18.8125</td>\n",
       "      <td>21.4375</td>\n",
       "      <td>18.1250</td>\n",
       "      <td>18.8750</td>\n",
       "    </tr>\n",
       "  </tbody>\n",
       "</table>\n",
       "</div>"
      ],
      "text/plain": [
       "       Date     open     high      low    close\n",
       "0  730119.0  17.1875  18.1250  14.5000  15.5000\n",
       "1  730169.0  16.1250  16.1250  13.0625  14.9375\n",
       "2  730219.0  15.5625  20.3750  13.5000  20.3750\n",
       "3  730269.0  20.2500  20.3750  17.1250  19.0000\n",
       "4  730319.0  18.8125  21.4375  18.1250  18.8750"
      ]
     },
     "execution_count": 41,
     "metadata": {},
     "output_type": "execute_result"
    }
   ],
   "source": [
    "df_ohlc_50.reset_index(inplace=True)\n",
    "df_ohlc_50.Date = df_ohlc_50.Date.map(mdates.date2num)\n",
    "df_ohlc_50.head()"
   ]
  },
  {
   "cell_type": "markdown",
   "metadata": {},
   "source": [
    "# CandleStick Charts\n",
    "\n",
    "1. Candlestick charts are used by traders to determine possible price movement based on past patterns.\n",
    "2. Candlesticks are useful when trading as they show four price points (open, close, high, and low) throughout the period of time the trader specifies.\n",
    "3. Many algorithms are based on the same price information shown in candlestick charts.\n",
    "4. Trading is often dictated by emotion, which can be read in candlestick charts.\n",
    "\n",
    "More Information- https://www.investopedia.com/trading/candlestick-charting-what-is-it/"
   ]
  },
  {
   "cell_type": "code",
   "execution_count": 43,
   "metadata": {},
   "outputs": [
    {
     "data": {
      "image/png": "[encoded data removed]",
      "text/plain": [
       "<Figure size 1080x720 with 1 Axes>"
      ]
     },
     "metadata": {
      "needs_background": "light"
     },
     "output_type": "display_data"
    }
   ],
   "source": [
    "# Create and visualize candlestick charts\n",
    "plt.figure(figsize=(15,10))\n",
    "\n",
    "ax1 = plt.subplot2grid((6,1), (0,0), rowspan=5, colspan=1)\n",
    "ax1.xaxis_date()\n",
    "candlestick_ohlc(ax1, df_ohlc_50.values, width=2, colorup='g')\n",
    "plt.show()"
   ]
  },
  {
   "cell_type": "code",
   "execution_count": 54,
   "metadata": {},
   "outputs": [],
   "source": [
    "#taking other dateframe data\n",
    "\n",
    "\n",
    "#WM \n",
    "#Getting stock price data\n",
    "\n",
    "start = dt.datetime(2016, 1, 1)\n",
    "end = dt.datetime.now()\n",
    "df = web.DataReader(\"WM\", 'yahoo', start, end)  # Collects data\n",
    "df.reset_index(inplace=True)\n",
    "df.set_index(\"Date\", inplace=True)\n",
    "\n",
    "#prices in USD"
   ]
  },
  {
   "cell_type": "code",
   "execution_count": 55,
   "metadata": {},
   "outputs": [],
   "source": [
    "#Making the data as csv\n",
    "\n",
    "df.to_csv(\"WM_data_2016.csv\")"
   ]
  },
  {
   "cell_type": "code",
   "execution_count": 57,
   "metadata": {},
   "outputs": [],
   "source": [
    "#Reading the same data from local csv file\n",
    "\n",
    "data_2016=pd.read_csv(\"WM_data_2016.csv\" ,parse_dates=True, index_col=0)"
   ]
  },
  {
   "cell_type": "code",
   "execution_count": 58,
   "metadata": {},
   "outputs": [
    {
     "data": {
      "text/html": [
       "<div>\n",
       "<style scoped>\n",
       "    .dataframe tbody tr th:only-of-type {\n",
       "        vertical-align: middle;\n",
       "    }\n",
       "\n",
       "    .dataframe tbody tr th {\n",
       "        vertical-align: top;\n",
       "    }\n",
       "\n",
       "    .dataframe thead th {\n",
       "        text-align: right;\n",
       "    }\n",
       "</style>\n",
       "<table border=\"1\" class=\"dataframe\">\n",
       "  <thead>\n",
       "    <tr style=\"text-align: right;\">\n",
       "      <th></th>\n",
       "      <th>High</th>\n",
       "      <th>Low</th>\n",
       "      <th>Open</th>\n",
       "      <th>Close</th>\n",
       "      <th>Volume</th>\n",
       "      <th>Adj Close</th>\n",
       "    </tr>\n",
       "    <tr>\n",
       "      <th>Date</th>\n",
       "      <th></th>\n",
       "      <th></th>\n",
       "      <th></th>\n",
       "      <th></th>\n",
       "      <th></th>\n",
       "      <th></th>\n",
       "    </tr>\n",
       "  </thead>\n",
       "  <tbody>\n",
       "    <tr>\n",
       "      <td>2015-12-31</td>\n",
       "      <td>53.970001</td>\n",
       "      <td>53.349998</td>\n",
       "      <td>53.830002</td>\n",
       "      <td>53.369999</td>\n",
       "      <td>1055200.0</td>\n",
       "      <td>48.401115</td>\n",
       "    </tr>\n",
       "    <tr>\n",
       "      <td>2016-01-04</td>\n",
       "      <td>52.610001</td>\n",
       "      <td>52.000000</td>\n",
       "      <td>52.599998</td>\n",
       "      <td>52.450001</td>\n",
       "      <td>2067400.0</td>\n",
       "      <td>47.566776</td>\n",
       "    </tr>\n",
       "    <tr>\n",
       "      <td>2016-01-05</td>\n",
       "      <td>52.700001</td>\n",
       "      <td>52.230000</td>\n",
       "      <td>52.419998</td>\n",
       "      <td>52.650002</td>\n",
       "      <td>2401400.0</td>\n",
       "      <td>47.748161</td>\n",
       "    </tr>\n",
       "    <tr>\n",
       "      <td>2016-01-06</td>\n",
       "      <td>53.320000</td>\n",
       "      <td>52.119999</td>\n",
       "      <td>52.169998</td>\n",
       "      <td>53.299999</td>\n",
       "      <td>3277400.0</td>\n",
       "      <td>48.337643</td>\n",
       "    </tr>\n",
       "    <tr>\n",
       "      <td>2016-01-07</td>\n",
       "      <td>53.049999</td>\n",
       "      <td>52.419998</td>\n",
       "      <td>52.580002</td>\n",
       "      <td>52.669998</td>\n",
       "      <td>3309900.0</td>\n",
       "      <td>47.766300</td>\n",
       "    </tr>\n",
       "  </tbody>\n",
       "</table>\n",
       "</div>"
      ],
      "text/plain": [
       "                 High        Low       Open      Close     Volume  Adj Close\n",
       "Date                                                                        \n",
       "2015-12-31  53.970001  53.349998  53.830002  53.369999  1055200.0  48.401115\n",
       "2016-01-04  52.610001  52.000000  52.599998  52.450001  2067400.0  47.566776\n",
       "2016-01-05  52.700001  52.230000  52.419998  52.650002  2401400.0  47.748161\n",
       "2016-01-06  53.320000  52.119999  52.169998  53.299999  3277400.0  48.337643\n",
       "2016-01-07  53.049999  52.419998  52.580002  52.669998  3309900.0  47.766300"
      ]
     },
     "execution_count": 58,
     "metadata": {},
     "output_type": "execute_result"
    }
   ],
   "source": [
    "data_2016.head()"
   ]
  },
  {
   "cell_type": "markdown",
   "metadata": {},
   "source": [
    "# 10 days candlestick"
   ]
  },
  {
   "cell_type": "code",
   "execution_count": 62,
   "metadata": {},
   "outputs": [],
   "source": [
    "# Resample to get open-high-low-close (OHLC) on every 10 days of data\n",
    "df_ohlc_10 = data_2016.Close.resample('10D').ohlc() \n",
    "df_volume_10 = data_2016.Volume.resample('10D').sum()"
   ]
  },
  {
   "cell_type": "code",
   "execution_count": 63,
   "metadata": {},
   "outputs": [
    {
     "data": {
      "text/html": [
       "<div>\n",
       "<style scoped>\n",
       "    .dataframe tbody tr th:only-of-type {\n",
       "        vertical-align: middle;\n",
       "    }\n",
       "\n",
       "    .dataframe tbody tr th {\n",
       "        vertical-align: top;\n",
       "    }\n",
       "\n",
       "    .dataframe thead th {\n",
       "        text-align: right;\n",
       "    }\n",
       "</style>\n",
       "<table border=\"1\" class=\"dataframe\">\n",
       "  <thead>\n",
       "    <tr style=\"text-align: right;\">\n",
       "      <th></th>\n",
       "      <th>Date</th>\n",
       "      <th>open</th>\n",
       "      <th>high</th>\n",
       "      <th>low</th>\n",
       "      <th>close</th>\n",
       "    </tr>\n",
       "  </thead>\n",
       "  <tbody>\n",
       "    <tr>\n",
       "      <td>0</td>\n",
       "      <td>735963.0</td>\n",
       "      <td>53.369999</td>\n",
       "      <td>53.369999</td>\n",
       "      <td>52.349998</td>\n",
       "      <td>52.349998</td>\n",
       "    </tr>\n",
       "    <tr>\n",
       "      <td>1</td>\n",
       "      <td>735973.0</td>\n",
       "      <td>52.860001</td>\n",
       "      <td>53.200001</td>\n",
       "      <td>51.520000</td>\n",
       "      <td>52.619999</td>\n",
       "    </tr>\n",
       "    <tr>\n",
       "      <td>2</td>\n",
       "      <td>735983.0</td>\n",
       "      <td>51.919998</td>\n",
       "      <td>52.980000</td>\n",
       "      <td>51.889999</td>\n",
       "      <td>52.950001</td>\n",
       "    </tr>\n",
       "    <tr>\n",
       "      <td>3</td>\n",
       "      <td>735993.0</td>\n",
       "      <td>53.259998</td>\n",
       "      <td>53.259998</td>\n",
       "      <td>52.119999</td>\n",
       "      <td>52.700001</td>\n",
       "    </tr>\n",
       "    <tr>\n",
       "      <td>4</td>\n",
       "      <td>736003.0</td>\n",
       "      <td>53.279999</td>\n",
       "      <td>55.310001</td>\n",
       "      <td>52.959999</td>\n",
       "      <td>55.310001</td>\n",
       "    </tr>\n",
       "  </tbody>\n",
       "</table>\n",
       "</div>"
      ],
      "text/plain": [
       "       Date       open       high        low      close\n",
       "0  735963.0  53.369999  53.369999  52.349998  52.349998\n",
       "1  735973.0  52.860001  53.200001  51.520000  52.619999\n",
       "2  735983.0  51.919998  52.980000  51.889999  52.950001\n",
       "3  735993.0  53.259998  53.259998  52.119999  52.700001\n",
       "4  736003.0  53.279999  55.310001  52.959999  55.310001"
      ]
     },
     "execution_count": 63,
     "metadata": {},
     "output_type": "execute_result"
    }
   ],
   "source": [
    "df_ohlc_10.reset_index(inplace=True)\n",
    "df_ohlc_10.Date = df_ohlc_10.Date.map(mdates.date2num)\n",
    "df_ohlc_10.head()"
   ]
  },
  {
   "cell_type": "code",
   "execution_count": 68,
   "metadata": {},
   "outputs": [
    {
     "data": {
      "image/png": "[encoded data removed]",
      "text/plain": [
       "<Figure size 1080x720 with 1 Axes>"
      ]
     },
     "metadata": {
      "needs_background": "light"
     },
     "output_type": "display_data"
    }
   ],
   "source": [
    "# Create and visualize candlestick charts\n",
    "plt.figure(figsize=(15,10))\n",
    "\n",
    "ax1 = plt.subplot2grid((6,1), (0,0), rowspan=5, colspan=1)\n",
    "ax1.xaxis_date()\n",
    "candlestick_ohlc(ax1, df_ohlc_10.values, width=2, colorup='g')\n",
    "plt.title(\"10 DAYS OHLC CANDLESTICK\")\n",
    "plt.show()"
   ]
  },
  {
   "cell_type": "markdown",
   "metadata": {},
   "source": [
    "# 20 days candlestick"
   ]
  },
  {
   "cell_type": "code",
   "execution_count": 65,
   "metadata": {},
   "outputs": [],
   "source": [
    "# Resample to get open-high-low-close (OHLC) on every 20 days of data\n",
    "df_ohlc_20 = data_2016.Close.resample('20D').ohlc() \n",
    "df_volume_20 = data_2016.Volume.resample('20D').sum()"
   ]
  },
  {
   "cell_type": "code",
   "execution_count": 66,
   "metadata": {},
   "outputs": [
    {
     "data": {
      "text/html": [
       "<div>\n",
       "<style scoped>\n",
       "    .dataframe tbody tr th:only-of-type {\n",
       "        vertical-align: middle;\n",
       "    }\n",
       "\n",
       "    .dataframe tbody tr th {\n",
       "        vertical-align: top;\n",
       "    }\n",
       "\n",
       "    .dataframe thead th {\n",
       "        text-align: right;\n",
       "    }\n",
       "</style>\n",
       "<table border=\"1\" class=\"dataframe\">\n",
       "  <thead>\n",
       "    <tr style=\"text-align: right;\">\n",
       "      <th></th>\n",
       "      <th>Date</th>\n",
       "      <th>open</th>\n",
       "      <th>high</th>\n",
       "      <th>low</th>\n",
       "      <th>close</th>\n",
       "    </tr>\n",
       "  </thead>\n",
       "  <tbody>\n",
       "    <tr>\n",
       "      <td>0</td>\n",
       "      <td>735963.0</td>\n",
       "      <td>53.369999</td>\n",
       "      <td>53.369999</td>\n",
       "      <td>51.520000</td>\n",
       "      <td>52.619999</td>\n",
       "    </tr>\n",
       "    <tr>\n",
       "      <td>1</td>\n",
       "      <td>735983.0</td>\n",
       "      <td>51.919998</td>\n",
       "      <td>53.259998</td>\n",
       "      <td>51.889999</td>\n",
       "      <td>52.700001</td>\n",
       "    </tr>\n",
       "    <tr>\n",
       "      <td>2</td>\n",
       "      <td>736003.0</td>\n",
       "      <td>53.279999</td>\n",
       "      <td>56.299999</td>\n",
       "      <td>52.959999</td>\n",
       "      <td>56.040001</td>\n",
       "    </tr>\n",
       "    <tr>\n",
       "      <td>3</td>\n",
       "      <td>736023.0</td>\n",
       "      <td>55.849998</td>\n",
       "      <td>58.830002</td>\n",
       "      <td>55.849998</td>\n",
       "      <td>58.599998</td>\n",
       "    </tr>\n",
       "    <tr>\n",
       "      <td>4</td>\n",
       "      <td>736043.0</td>\n",
       "      <td>58.730000</td>\n",
       "      <td>59.709999</td>\n",
       "      <td>57.590000</td>\n",
       "      <td>57.669998</td>\n",
       "    </tr>\n",
       "  </tbody>\n",
       "</table>\n",
       "</div>"
      ],
      "text/plain": [
       "       Date       open       high        low      close\n",
       "0  735963.0  53.369999  53.369999  51.520000  52.619999\n",
       "1  735983.0  51.919998  53.259998  51.889999  52.700001\n",
       "2  736003.0  53.279999  56.299999  52.959999  56.040001\n",
       "3  736023.0  55.849998  58.830002  55.849998  58.599998\n",
       "4  736043.0  58.730000  59.709999  57.590000  57.669998"
      ]
     },
     "execution_count": 66,
     "metadata": {},
     "output_type": "execute_result"
    }
   ],
   "source": [
    "df_ohlc_20.reset_index(inplace=True)\n",
    "df_ohlc_20.Date = df_ohlc_20.Date.map(mdates.date2num)\n",
    "df_ohlc_20.head()"
   ]
  },
  {
   "cell_type": "code",
   "execution_count": 69,
   "metadata": {},
   "outputs": [
    {
     "data": {
      "image/png": "[encoded data removed]",
      "text/plain": [
       "<Figure size 1080x720 with 1 Axes>"
      ]
     },
     "metadata": {
      "needs_background": "light"
     },
     "output_type": "display_data"
    }
   ],
   "source": [
    "# Create and visualize candlestick charts\n",
    "plt.figure(figsize=(15,10))\n",
    "\n",
    "ax1 = plt.subplot2grid((6,1), (0,0), rowspan=5, colspan=1)\n",
    "ax1.xaxis_date()\n",
    "candlestick_ohlc(ax1, df_ohlc_20.values, width=2, colorup='g')\n",
    "plt.title(\"20 DAYS OHLC CANDLESTICK\")\n",
    "plt.show()"
   ]
  },
  {
   "cell_type": "markdown",
   "metadata": {},
   "source": [
    "# Key Takeaways-\n",
    "\n",
    "1. Green indicates a rise in stock price, whereas red indicates a decrease.\n",
    "\n",
    "2. The candlesticks till 2020 indicate a bullish pattern. This means that overally, the stocks are likely to increase. \n",
    "\n",
    "3. More greens than reds.\n",
    "\n",
    "4. However there are sudden reds in 2020. There have been large socio-political aspects in 2020 like US tensions in middle east, Covid-19 outbreak and aggresive policies of China. This indicates that there have been large turmoils."
   ]
  },
  {
   "cell_type": "code",
   "execution_count": null,
   "metadata": {},
   "outputs": [],
   "source": []
  }
 ],
 "metadata": {
  "kernelspec": {
   "display_name": "Python 3",
   "language": "python",
   "name": "python3"
  },
  "language_info": {
   "codemirror_mode": {
    "name": "ipython",
    "version": 3
   },
   "file_extension": ".py",
   "mimetype": "text/x-python",
   "name": "python",
   "nbconvert_exporter": "python",
   "pygments_lexer": "ipython3",
   "version": "3.7.4"
  }
 },
 "nbformat": 4,
 "nbformat_minor": 2
}
